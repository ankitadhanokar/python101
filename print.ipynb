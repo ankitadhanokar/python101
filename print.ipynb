{
 "cells": [
  {
   "cell_type": "code",
   "execution_count": 5,
   "metadata": {},
   "outputs": [
    {
     "name": "stdout",
     "output_type": "stream",
     "text": [
      "\n"
     ]
    }
   ],
   "source": [
    "# print() prints nothing\n",
    "print()"
   ]
  },
  {
   "cell_type": "code",
   "execution_count": 6,
   "metadata": {},
   "outputs": [
    {
     "name": "stdout",
     "output_type": "stream",
     "text": [
      "Welcome to Python101\n"
     ]
    }
   ],
   "source": [
    "#Simple Print\n",
    "print('Welcome to Python101')"
   ]
  },
  {
   "cell_type": "code",
   "execution_count": 7,
   "metadata": {},
   "outputs": [
    {
     "name": "stdout",
     "output_type": "stream",
     "text": [
      "Python language's core philosophy is summarized in the document The Zen of Python\n"
     ]
    }
   ],
   "source": [
    "#Double quote print\n",
    "print(\"Python language's core philosophy is summarized in the document The Zen of Python\")"
   ]
  },
  {
   "cell_type": "code",
   "execution_count": 8,
   "metadata": {},
   "outputs": [
    {
     "name": "stdout",
     "output_type": "stream",
     "text": [
      "Python\n"
     ]
    }
   ],
   "source": [
    "#Print with variable\n",
    "sample_string ='Python'\n",
    "print(sample_string)"
   ]
  },
  {
   "cell_type": "code",
   "execution_count": 9,
   "metadata": {},
   "outputs": [
    {
     "name": "stdout",
     "output_type": "stream",
     "text": [
      "   o\n",
      "  o o\n",
      " o o o\n",
      "o o o o\n",
      "   | \n"
     ]
    }
   ],
   "source": [
    "#Print Tree\n",
    "print('   o')\n",
    "print('  o o')\n",
    "print(' o o o')\n",
    "print('o o o o')\n",
    "print('   | ')"
   ]
  },
  {
   "cell_type": "code",
   "execution_count": 10,
   "metadata": {},
   "outputs": [
    {
     "name": "stdout",
     "output_type": "stream",
     "text": [
      "I am studying @ UTD\n",
      "I am studying @UTD\n"
     ]
    }
   ],
   "source": [
    "#Print variable added to string\n",
    "sample_name = 'UTD'\n",
    "print('I am studying @',sample_name)            #note the space is there when , is used\n",
    "print('I am studying @'+sample_name)            #while concatination space is not there."
   ]
  },
  {
   "cell_type": "code",
   "execution_count": 11,
   "metadata": {},
   "outputs": [
    {
     "name": "stdout",
     "output_type": "stream",
     "text": [
      "a = 5\n",
      "a = b = 5\n",
      "a=b=5\n",
      "a =000005\n",
      "a =05 = b\n",
      "3\n",
      "2\n",
      "1\n",
      "GO!!!\n",
      "a is 5 \n",
      "b is 5\n",
      "3 2 1 Go!\n"
     ]
    }
   ],
   "source": [
    "a = 5\n",
    "print(\"a =\", a)                                 # Two objects are passed\n",
    "b = a\n",
    "print('a =', 'b =', b)                          # Three objects are passed\n",
    "\n",
    "print('a','b',b,sep='=')                        # Separator is '=' between objects\n",
    "print(\"a =\", a, sep='00000', end='\\n')          # Separator is '00000' between objects and end ='\\n' inserts line break\n",
    "print(\"a =\", a, sep='0', end=' ')               # Including end='' keeps output on same line\n",
    "print('= b')\n",
    "\n",
    "#A new line can also be output by inserting \\n.\n",
    "print('3\\n2\\n1\\nGO!!!')\n",
    "print('a is', a, '\\nb is', b)\n",
    "\n",
    "print('3 2 1 Go!')                              #prints on single line."
   ]
  },
  {
   "cell_type": "code",
   "execution_count": 12,
   "metadata": {},
   "outputs": [
    {
     "name": "stdout",
     "output_type": "stream",
     "text": [
      "5\n",
      "sum is  5\n"
     ]
    }
   ],
   "source": [
    "#Arithmetic operation in print\n",
    "int_one = 2\n",
    "int_two = 3\n",
    "print(int_one+int_two)\n",
    "print('sum is ',int_one+int_two)"
   ]
  },
  {
   "cell_type": "code",
   "execution_count": 4,
   "metadata": {},
   "outputs": [
    {
     "name": "stdout",
     "output_type": "stream",
     "text": [
      "int_one is 2 \n",
      "int_two is 3\n",
      "int_one is 2\n",
      "int_two is 3\n",
      "Python was invented by Guido van Rossum and first appeared in 1990\n"
     ]
    }
   ],
   "source": [
    "# Placeholder %d and %s\n",
    "print('int_one is',int_one,'\\nint_two is',int_two)\n",
    "\n",
    "print('int_one is %d\\nint_two is %d'%(int_one,int_two))             #More readable.\n",
    "\n",
    "\n",
    "python_inventor='Guido van Rossum'\n",
    "appeared_year = 1990\n",
    "print('Python was invented by %s and first appeared in %d'%(python_inventor,appeared_year))"
   ]
  },
  {
   "cell_type": "code",
   "execution_count": null,
   "metadata": {},
   "outputs": [],
   "source": []
  }
 ],
 "metadata": {
  "kernelspec": {
   "display_name": "Python 3",
   "language": "python",
   "name": "python3"
  },
  "language_info": {
   "codemirror_mode": {
    "name": "ipython",
    "version": 3
   },
   "file_extension": ".py",
   "mimetype": "text/x-python",
   "name": "python",
   "nbconvert_exporter": "python",
   "pygments_lexer": "ipython3",
   "version": "3.7.0"
  }
 },
 "nbformat": 4,
 "nbformat_minor": 2
}
